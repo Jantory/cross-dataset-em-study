{
 "cells": [
  {
   "cell_type": "code",
   "execution_count": null,
   "id": "fec66fe3-ca29-467a-9fb8-750562d0af79",
   "metadata": {},
   "outputs": [],
   "source": [
    "import pandas as pd\n",
    "import numpy as np\n",
    "import os\n",
    "import copy\n",
    "import json\n",
    "import random\n",
    "\n",
    "from openai import OpenAI"
   ]
  },
  {
   "cell_type": "markdown",
   "id": "10133e01-b38f-437b-a269-03bdcb986fdd",
   "metadata": {},
   "source": [
    "## GPT4o-mini"
   ]
  },
  {
   "cell_type": "code",
   "execution_count": null,
   "id": "9963cda5-97d1-4109-9b72-1a25e8ed8e79",
   "metadata": {},
   "outputs": [],
   "source": [
    "client = OpenAI()"
   ]
  },
  {
   "cell_type": "code",
   "execution_count": null,
   "id": "cd83e017-f8d9-41b9-b472-95f3f99bbcbc",
   "metadata": {},
   "outputs": [],
   "source": [
    "# gpt4om_batch_input_file = client.files.create(\n",
    "#     file=open(\"../data/gpt/em-gpt-4o-mini.jsonl\", \"rb\"),\n",
    "#     purpose=\"batch\"\n",
    "# )\n",
    "\n",
    "# print(gpt4om_batch_input_file)\n",
    "\n",
    "# gpt4om_batch_input_file_id = gpt4om_batch_input_file.id\n",
    "# client.batches.create(\n",
    "#     input_file_id=gpt4om_batch_input_file_id,\n",
    "#     endpoint=\"/v1/chat/completions\",\n",
    "#     completion_window=\"24h\",\n",
    "#     metadata={\n",
    "#         \"description\": \"nightly eval job with gpt-4o-mini\"\n",
    "#     }\n",
    "# )"
   ]
  },
  {
   "cell_type": "code",
   "execution_count": null,
   "id": "6b039b9f-8392-4597-847b-be203891982f",
   "metadata": {},
   "outputs": [],
   "source": []
  },
  {
   "cell_type": "code",
   "execution_count": null,
   "id": "ee466aed-a3ad-4fb7-8ff8-5fa842fbfd8a",
   "metadata": {},
   "outputs": [],
   "source": [
    "# gpt4om_few_manual_batch_input_file = client.files.create(\n",
    "#     file=open(\"../data/gpt/em-few-shot-manual-gpt-4o-mini.jsonl\", \"rb\"),\n",
    "#     purpose=\"batch\"\n",
    "# )\n",
    "\n",
    "# print(gpt4om_few_manual_batch_input_file)\n",
    "\n",
    "# gpt4om_few_manual_batch_input_file_id = gpt4om_few_manual_batch_input_file.id\n",
    "# client.batches.create(\n",
    "#     input_file_id=gpt4om_few_manual_batch_input_file_id,\n",
    "#     endpoint=\"/v1/chat/completions\",\n",
    "#     completion_window=\"24h\",\n",
    "#     metadata={\n",
    "#         \"description\": \"nightly eval job with manually few shot on gpt-4o-mini\"\n",
    "#     }\n",
    "# )"
   ]
  },
  {
   "cell_type": "code",
   "execution_count": null,
   "id": "ce5e957a-5072-4bf4-82f2-6ec20814a80b",
   "metadata": {},
   "outputs": [],
   "source": []
  },
  {
   "cell_type": "code",
   "execution_count": null,
   "id": "c4943761-4874-4e14-a24b-998580706a12",
   "metadata": {},
   "outputs": [],
   "source": [
    "# gpt4om_few_random_batch_input_file = client.files.create(\n",
    "#     file=open(\"../data/gpt/em-few-shot-random-gpt-4o-mini.jsonl\", \"rb\"),\n",
    "#     purpose=\"batch\"\n",
    "# )\n",
    "\n",
    "# print(gpt4om_few_random_batch_input_file)\n",
    "\n",
    "# gpt4om_few_random_batch_input_file_id = gpt4om_few_random_batch_input_file.id\n",
    "# client.batches.create(\n",
    "#     input_file_id=gpt4om_few_random_batch_input_file_id,\n",
    "#     endpoint=\"/v1/chat/completions\",\n",
    "#     completion_window=\"24h\",\n",
    "#     metadata={\n",
    "#         \"description\": \"nightly eval job with random few shot on gpt-4o-mini\"\n",
    "#     }\n",
    "# )"
   ]
  },
  {
   "cell_type": "code",
   "execution_count": null,
   "id": "6704d66d-4a40-425a-bce0-8d2ba204e14a",
   "metadata": {},
   "outputs": [],
   "source": []
  },
  {
   "cell_type": "markdown",
   "id": "f6b5af90-121b-4022-9c30-4ae26a5ab92b",
   "metadata": {},
   "source": [
    "## GPT3.5"
   ]
  },
  {
   "cell_type": "code",
   "execution_count": null,
   "id": "f120bf57-908d-4166-8665-26fb85c5c9fe",
   "metadata": {},
   "outputs": [],
   "source": [
    "# gpt35_batch_input_file = client.files.create(\n",
    "#     file=open(\"../data/gpt/em-gpt-3.5-turbo.jsonl\", \"rb\"),\n",
    "#     purpose=\"batch\"\n",
    "# )\n",
    "\n",
    "# print(gpt35_batch_input_file)\n",
    "\n",
    "# gpt35_batch_input_file_id = gpt35_batch_input_file.id\n",
    "# client.batches.create(\n",
    "#     input_file_id=gpt35_batch_input_file_id,\n",
    "#     endpoint=\"/v1/chat/completions\",\n",
    "#     completion_window=\"24h\",\n",
    "#     metadata={\n",
    "#         \"description\": \"nightly eval job with gpt-3.5-turbo\"\n",
    "#     }\n",
    "# )"
   ]
  },
  {
   "cell_type": "code",
   "execution_count": null,
   "id": "27af8a30-f8c9-4906-a96d-d0fc41ea4c5b",
   "metadata": {},
   "outputs": [],
   "source": []
  },
  {
   "cell_type": "code",
   "execution_count": null,
   "id": "b569c198-c650-4b6b-b422-7a8bbb9eebe2",
   "metadata": {},
   "outputs": [],
   "source": [
    "# gpt35_few_manual_batch_input_file = client.files.create(\n",
    "#     file=open(\"../data/gpt/em-few-shot-manual-gpt-3.5-turbo.jsonl\", \"rb\"),\n",
    "#     purpose=\"batch\"\n",
    "# )\n",
    "\n",
    "# print(gpt35_few_manual_batch_input_file)\n",
    "\n",
    "# gpt35_few_manual_batch_input_file_id = gpt35_few_manual_batch_input_file.id\n",
    "# client.batches.create(\n",
    "#     input_file_id=gpt35_few_manual_batch_input_file_id,\n",
    "#     endpoint=\"/v1/chat/completions\",\n",
    "#     completion_window=\"24h\",\n",
    "#     metadata={\n",
    "#         \"description\": \"nightly eval job with manually few shot on gpt-3.5-turbo\"\n",
    "#     }\n",
    "# )"
   ]
  },
  {
   "cell_type": "code",
   "execution_count": null,
   "id": "4039a00b-4348-4736-adba-7b942a73873b",
   "metadata": {},
   "outputs": [],
   "source": []
  },
  {
   "cell_type": "code",
   "execution_count": null,
   "id": "0ee821c6-6053-4217-a7ab-9b0097e0a437",
   "metadata": {},
   "outputs": [],
   "source": [
    "# gpt35_few_random_batch_input_file = client.files.create(\n",
    "#     file=open(\"../data/gpt/em-few-shot-random-gpt-3.5-turbo.jsonl\", \"rb\"),\n",
    "#     purpose=\"batch\"\n",
    "# )\n",
    "\n",
    "# print(gpt35_few_random_batch_input_file)\n",
    "\n",
    "# gpt35_few_random_batch_input_file_id = gpt35_few_random_batch_input_file.id\n",
    "# client.batches.create(\n",
    "#     input_file_id=gpt35_few_random_batch_input_file_id,\n",
    "#     endpoint=\"/v1/chat/completions\",\n",
    "#     completion_window=\"24h\",\n",
    "#     metadata={\n",
    "#         \"description\": \"nightly eval job with random few shot on gpt-3.5-turbo\"\n",
    "#     }\n",
    "# )"
   ]
  },
  {
   "cell_type": "code",
   "execution_count": null,
   "id": "b10b8b7a-963b-4e83-a055-78a71a11f261",
   "metadata": {},
   "outputs": [],
   "source": []
  },
  {
   "cell_type": "markdown",
   "id": "1233d9b7-6fb8-4ef2-b0c9-727fc63470b5",
   "metadata": {},
   "source": [
    "## GPT4"
   ]
  },
  {
   "cell_type": "code",
   "execution_count": null,
   "id": "37ee9c90-2781-4574-9587-70c1ba5c0b39",
   "metadata": {},
   "outputs": [],
   "source": [
    "# gpt4_batch_input_file = client.files.create(\n",
    "#     file=open(\"../data/gpt/em-gpt-4.jsonl\", \"rb\"),\n",
    "#     purpose=\"batch\"\n",
    "# )\n",
    "\n",
    "# print(gpt4_batch_input_file)\n",
    "\n",
    "# gpt4_batch_input_file_id = gpt4_batch_input_file.id\n",
    "# client.batches.create(\n",
    "#     input_file_id=gpt4_batch_input_file_id,\n",
    "#     endpoint=\"/v1/chat/completions\",\n",
    "#     completion_window=\"24h\",\n",
    "#     metadata={\n",
    "#         \"description\": \"nightly eval job with gpt-4\"\n",
    "#     }\n",
    "# )"
   ]
  },
  {
   "cell_type": "code",
   "execution_count": null,
   "id": "73015630-dd9a-4d7f-8bd4-01c2a897ef75",
   "metadata": {},
   "outputs": [],
   "source": []
  },
  {
   "cell_type": "code",
   "execution_count": null,
   "id": "2baf975f-e00a-4618-9284-bb5b7ea1aebf",
   "metadata": {},
   "outputs": [],
   "source": [
    "# gpt4_few_manual_batch_input_file = client.files.create(\n",
    "#     file=open(\"../data/gpt/em-few-shot-manual-gpt-4.jsonl\", \"rb\"),\n",
    "#     purpose=\"batch\"\n",
    "# )\n",
    "\n",
    "# print(gpt4_few_manual_batch_input_file)\n",
    "\n",
    "# gpt4_few_manual_batch_input_file_id = gpt4_few_manual_batch_input_file.id\n",
    "# client.batches.create(\n",
    "#     input_file_id=gpt4_few_manual_batch_input_file_id,\n",
    "#     endpoint=\"/v1/chat/completions\",\n",
    "#     completion_window=\"24h\",\n",
    "#     metadata={\n",
    "#         \"description\": \"nightly eval job with manually few shot on gpt-4\"\n",
    "#     }\n",
    "# )"
   ]
  },
  {
   "cell_type": "code",
   "execution_count": null,
   "id": "7108195e-d2f9-4b5f-9c90-8a8d705360c3",
   "metadata": {},
   "outputs": [],
   "source": []
  },
  {
   "cell_type": "code",
   "execution_count": null,
   "id": "8e9cfe4c-12b0-437e-b5ac-4f9817054cb1",
   "metadata": {},
   "outputs": [],
   "source": [
    "# gpt4_few_random_batch_input_file = client.files.create(\n",
    "#     file=open(\"../data/gpt/em-few-shot-random-gpt-4.jsonl\", \"rb\"),\n",
    "#     purpose=\"batch\"\n",
    "# )\n",
    "\n",
    "# print(gpt4_few_random_batch_input_file)\n",
    "\n",
    "# gpt4_few_random_batch_input_file_id = gpt4_few_random_batch_input_file.id\n",
    "# client.batches.create(\n",
    "#     input_file_id=gpt4_few_random_batch_input_file_id,\n",
    "#     endpoint=\"/v1/chat/completions\",\n",
    "#     completion_window=\"24h\",\n",
    "#     metadata={\n",
    "#         \"description\": \"nightly eval job with random few shot on gpt-4\"\n",
    "#     }\n",
    "# )"
   ]
  },
  {
   "cell_type": "code",
   "execution_count": null,
   "id": "055a46df-5e26-409f-84bd-eff082205202",
   "metadata": {},
   "outputs": [],
   "source": []
  }
 ],
 "metadata": {
  "kernelspec": {
   "display_name": "Python 3 (ipykernel)",
   "language": "python",
   "name": "python3"
  },
  "language_info": {
   "codemirror_mode": {
    "name": "ipython",
    "version": 3
   },
   "file_extension": ".py",
   "mimetype": "text/x-python",
   "name": "python",
   "nbconvert_exporter": "python",
   "pygments_lexer": "ipython3",
   "version": "3.9.20"
  },
  "widgets": {
   "application/vnd.jupyter.widget-state+json": {
    "state": {},
    "version_major": 2,
    "version_minor": 0
   }
  }
 },
 "nbformat": 4,
 "nbformat_minor": 5
}
